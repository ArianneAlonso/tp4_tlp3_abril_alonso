{
 "cells": [
  {
   "cell_type": "markdown",
   "id": "3e4771e8",
   "metadata": {},
   "source": [
    "# Trabajo Practico n4 - Introduccion a numpy.\n",
    "## Criterios de evaluación.\n",
    "\n",
    "* Se deben utilizar nombres de variables descriptivos y claros (Utilizar la nomeclatura correspondiente para los nombres de variables).\n",
    "* Comentarios claros y concisos que expliquen el propósito de cada sección del código.\n",
    "* Utilizar mensajes de commit **descriptivos**. (Puedes utilizar la extension CONVENTIONAL COMMIT de VS-CODE). \n",
    "* Entrega en tiempo y forma.\n",
    "* Todo el código desarrollado debe ser subido a un repositorio en GitHub (el nombre del repositorio de seguir la siguiente estructura: tp4_tlp3_nombre_apellido).\n",
    "* Para resolver las actividades se debe insertar casillas de codigo entre cada actividad del cuaderno de Jupyter\n",
    "\n",
    "### ¡Importante!\n",
    "**El incumplimiento de los criterios de evaluación restará puntos en la nota final del práctico!**"
   ]
  },
  {
   "cell_type": "markdown",
   "id": "6f3340d9",
   "metadata": {},
   "source": [
    "**Importaciones:**"
   ]
  },
  {
   "cell_type": "code",
   "execution_count": 2,
   "id": "783ab170",
   "metadata": {},
   "outputs": [],
   "source": [
    "import numpy as np\n",
    "from random import randint"
   ]
  },
  {
   "cell_type": "markdown",
   "id": "c5ba7292",
   "metadata": {},
   "source": [
    "**Actividad 1:**: Crea un array de NumPy que contenga los números del 0 al 9. (Debes utilizar un metodo de numpy para su creacion.)"
   ]
  },
  {
   "cell_type": "code",
   "execution_count": 3,
   "id": "75029034",
   "metadata": {},
   "outputs": [
    {
     "name": "stdout",
     "output_type": "stream",
     "text": [
      "array:  [0 1 2 3 4 5 6 7 8 9]\n"
     ]
    }
   ],
   "source": [
    "#todo: \n",
    "\n",
    "nnumeros = np.arange(10)\n",
    "\n",
    "print(\"array: \", nnumeros)\n",
    "\n",
    "\n",
    "#nota: np.arange, genera un array de números, viene de \"array\" + \"range\"\n"
   ]
  },
  {
   "cell_type": "markdown",
   "id": "cb894927",
   "metadata": {},
   "source": [
    "**Actividad 2:** Crea un array de 5 ceros, y luego cambia el tercer elemento (índice 2) para que sea 5. (Debes utilizar un metodo de numpy para su creacion.)"
   ]
  },
  {
   "cell_type": "code",
   "execution_count": 8,
   "id": "b9cd04a0",
   "metadata": {},
   "outputs": [
    {
     "name": "stdout",
     "output_type": "stream",
     "text": [
      "[0. 0. 5. 0. 0.]\n"
     ]
    }
   ],
   "source": [
    "#todo:\n",
    "\n",
    "ceros = np.zeros(5)\n",
    "\n",
    "ceros[2] = 5\n",
    "\n",
    "print(ceros)"
   ]
  },
  {
   "cell_type": "markdown",
   "id": "000352a3",
   "metadata": {},
   "source": [
    "**Actividad 3:** Genera una matriz 3x3 de números aleatorios entre 0 y 1."
   ]
  },
  {
   "cell_type": "code",
   "execution_count": null,
   "id": "e74354c9",
   "metadata": {},
   "outputs": [
    {
     "name": "stdout",
     "output_type": "stream",
     "text": [
      "[[0 0 0]\n",
      " [1 1 1]\n",
      " [0 0 0]]\n"
     ]
    }
   ],
   "source": [
    "#todo: \n",
    "\n",
    "matriz = np.random.randint(0,2,size=(3,3))\n",
    "\n",
    "print(matriz)\n",
    "\n",
    "\n",
    "#nota: genera n enteros aleatorios, donde se ubica los numeros qe se quieren incluir desde el 0 (incluido), al 2 (no incluido), en este caso qeremos generar una matriz, y con size, decimos a la funcion qe qeremos una de 3x3"
   ]
  },
  {
   "cell_type": "markdown",
   "id": "6611aaf8",
   "metadata": {},
   "source": [
    "**Actividad 4:** Dado el siguiente array `arr = np.array([10, 20, 30, 40, 50])`\n",
    "1. Suma 5 a cada elemento.\n",
    "2. Multiplica todo por un numero aleatorio (utiliza el modulo random para generarlo.)"
   ]
  },
  {
   "cell_type": "code",
   "execution_count": 3,
   "id": "ed416e11",
   "metadata": {},
   "outputs": [
    {
     "name": "stdout",
     "output_type": "stream",
     "text": [
      "numero aleatorio elegido:  121891\n",
      "[1828365 3047275 4266185 5485095 6704005]\n"
     ]
    }
   ],
   "source": [
    "#todo:\n",
    "\n",
    "arr = np.array([10,20,30,40,50])\n",
    "\n",
    "suma = arr + 5\n",
    "\n",
    "numero = randint(0,1000000)\n",
    "\n",
    "resultado = suma * numero\n",
    "\n",
    "print(\"numero aleatorio elegido: \", numero)\n",
    "print(resultado)"
   ]
  },
  {
   "cell_type": "markdown",
   "id": "fbd05c4d",
   "metadata": {},
   "source": [
    "**Actividad 5:** Crea una matriz identidad de tamaño 4x4 (unos en la diagonal principal y ceros en el resto)."
   ]
  },
  {
   "cell_type": "code",
   "execution_count": null,
   "id": "6811c19f",
   "metadata": {},
   "outputs": [
    {
     "name": "stdout",
     "output_type": "stream",
     "text": [
      "[[1 0 0 0]\n",
      " [0 1 0 0]\n",
      " [0 0 1 0]\n",
      " [0 0 0 1]]\n"
     ]
    }
   ],
   "source": [
    "#todo:\n",
    "\n",
    "matriz= np.identity(4, dtype=int)\n",
    "\n",
    "print (matriz)\n",
    "\n",
    "#nota: dtype es \"tipo de dato\""
   ]
  },
  {
   "cell_type": "markdown",
   "id": "3ec18459",
   "metadata": {},
   "source": [
    "**Actividad 6:** Crea un array que comience en 0 hasta el 20, pero que solo tenga numeros pares yu luego realiza las 4 operaciones basicas. (suma, resta, multiplicacion, division)."
   ]
  },
  {
   "cell_type": "code",
   "execution_count": null,
   "id": "f0c02872",
   "metadata": {},
   "outputs": [
    {
     "name": "stdout",
     "output_type": "stream",
     "text": [
      "numero elegido: 561289 suma: [561289 561291 561293 561295 561297 561299 561301 561303 561305 561307\n",
      " 561309] resta: [-561289 -561287 -561285 -561283 -561281 -561279 -561277 -561275 -561273\n",
      " -561271 -561269] multiplicacion: [       0  1122578  2245156  3367734  4490312  5612890  6735468  7858046\n",
      "  8980624 10103202 11225780] division: [0.00000000e+00 3.56322679e-06 7.12645357e-06 1.06896804e-05\n",
      " 1.42529071e-05 1.78161339e-05 2.13793607e-05 2.49425875e-05\n",
      " 2.85058143e-05 3.20690411e-05 3.56322679e-05]\n"
     ]
    }
   ],
   "source": [
    "#todo: \n",
    "\n",
    "array = np.arange(0,21,2)\n",
    "\n",
    "numero = randint(1, 1000000)\n",
    "\n",
    "suma= array + numero\n",
    "\n",
    "resta= array - numero\n",
    "\n",
    "multiplicacion = array * numero\n",
    "\n",
    "division= array / numero\n",
    "\n",
    "print(\"numero elegido:\",numero,\"suma:\",suma,\"resta:\",resta,\"multiplicacion:\",multiplicacion,\"division:\",division)\n"
   ]
  }
 ],
 "metadata": {
  "kernelspec": {
   "display_name": "venv",
   "language": "python",
   "name": "python3"
  },
  "language_info": {
   "codemirror_mode": {
    "name": "ipython",
    "version": 3
   },
   "file_extension": ".py",
   "mimetype": "text/x-python",
   "name": "python",
   "nbconvert_exporter": "python",
   "pygments_lexer": "ipython3",
   "version": "3.12.9"
  }
 },
 "nbformat": 4,
 "nbformat_minor": 5
}
